{
 "cells": [
  {
   "cell_type": "markdown",
   "source": [
    "### Generating the Dataset"
   ],
   "metadata": {}
  },
  {
   "cell_type": "code",
   "execution_count": 1,
   "source": [
    "import numpy as np \r\n",
    "import tensorflow as tf\r\n",
    "from d2l import tensorflow as d2l\r\n",
    "\r\n",
    "true_w = tf.constant([2, -3.4])\r\n",
    "true_b = 4.2\r\n",
    "\r\n",
    "features, labels = d2l.synthetic_data(true_w, true_b, 1000)"
   ],
   "outputs": [],
   "metadata": {}
  },
  {
   "cell_type": "markdown",
   "source": [
    "### Reading the Dataset"
   ],
   "metadata": {
    "ExecuteTime": {
     "end_time": "2020-11-10T16:20:09.318287Z",
     "start_time": "2020-11-10T16:20:09.314298Z"
    }
   }
  },
  {
   "cell_type": "code",
   "execution_count": 3,
   "source": [
    "def load_array(data_arrays, batch_size, is_train = True):\r\n",
    "    dataset = tf.data.Dataset.from_tensor_slices(data_arrays)\r\n",
    "    if is_train:\r\n",
    "        dataset = dataset.shuffle(buffer_size = 1000)\r\n",
    "    dataset = dataset.batch(batch_size)\r\n",
    "    return dataset\r\n",
    "\r\n",
    "batch_size = 10\r\n",
    "data_iter = load_array((features, labels), batch_size)"
   ],
   "outputs": [],
   "metadata": {}
  },
  {
   "cell_type": "markdown",
   "source": [
    "The boolean value is_train indicates whether or not we want the data iterator object to\n",
    "shuffle the data on each epoch (pass through the dataset)."
   ],
   "metadata": {}
  },
  {
   "cell_type": "markdown",
   "source": [
    "\"iter\" to construct a Python iterator and use next to obtain the first item from the iterator."
   ],
   "metadata": {}
  },
  {
   "cell_type": "markdown",
   "source": [
    "### Defining the model"
   ],
   "metadata": {
    "ExecuteTime": {
     "end_time": "2020-11-10T17:12:39.916521Z",
     "start_time": "2020-11-10T17:12:39.913529Z"
    }
   }
  },
  {
   "cell_type": "markdown",
   "source": [
    "creating a keras Dense model"
   ],
   "metadata": {
    "ExecuteTime": {
     "end_time": "2020-11-10T17:12:58.627380Z",
     "start_time": "2020-11-10T17:12:58.623390Z"
    }
   }
  },
  {
   "cell_type": "code",
   "execution_count": 4,
   "source": [
    "net = tf.keras.Sequential()\r\n",
    "net.add(tf.keras.layers.Dense(1))"
   ],
   "outputs": [],
   "metadata": {}
  },
  {
   "cell_type": "markdown",
   "source": [
    "### Intializing model parameters"
   ],
   "metadata": {}
  },
  {
   "cell_type": "markdown",
   "source": [
    "initializers module for model parameter initialization"
   ],
   "metadata": {}
  },
  {
   "cell_type": "code",
   "execution_count": 5,
   "source": [
    "initializer = tf.initializers.RandomNormal(stddev=0.01)\r\n",
    "net = tf.keras.Sequential()\r\n",
    "net.add(tf.keras.layers.Dense(1, kernel_initializer = initializer))"
   ],
   "outputs": [],
   "metadata": {}
  },
  {
   "cell_type": "markdown",
   "source": [
    "### Defining the loss function"
   ],
   "metadata": {}
  },
  {
   "cell_type": "code",
   "execution_count": 6,
   "source": [
    "loss = tf.keras.losses.MeanSquaredError()"
   ],
   "outputs": [],
   "metadata": {}
  },
  {
   "cell_type": "markdown",
   "source": [
    "### Defining the Optimization algorithm"
   ],
   "metadata": {
    "ExecuteTime": {
     "end_time": "2020-11-11T09:39:45.501728Z",
     "start_time": "2020-11-11T09:39:45.497738Z"
    }
   }
  },
  {
   "cell_type": "code",
   "execution_count": 11,
   "source": [
    "trainer = tf.keras.optimizers.SGD(learning_rate= 0.03)"
   ],
   "outputs": [],
   "metadata": {}
  },
  {
   "cell_type": "markdown",
   "source": [
    "### Training"
   ],
   "metadata": {}
  },
  {
   "cell_type": "markdown",
   "source": [
    "--Generate predictions by calling net(X) and calculate the loss l (the forward propagation).\n",
    "\n",
    "--Calculate gradients by running the backpropagation.\n",
    "\n",
    "--Update the model parameters by invoking our optimizer."
   ],
   "metadata": {}
  },
  {
   "cell_type": "code",
   "execution_count": 12,
   "source": [
    "num_epochs = 3\r\n",
    "for epoch in range(num_epochs):\r\n",
    "    for X, y in data_iter:\r\n",
    "        with tf.GradientTape() as tape:\r\n",
    "            l = loss(net(X, training = True), y)\r\n",
    "        grads = tape.gradient(l, net.trainable_variables)\r\n",
    "        trainer.apply_gradients(zip(grads, net.trainable_variables))\r\n",
    "    l = loss(net(features), labels)\r\n",
    "    print(f'epoch {epoch +1}, loss {l:f}_')"
   ],
   "outputs": [
    {
     "output_type": "stream",
     "name": "stdout",
     "text": [
      "epoch 1, loss 0.000214_\n",
      "epoch 2, loss 0.000095_\n",
      "epoch 3, loss 0.000096_\n"
     ]
    }
   ],
   "metadata": {}
  },
  {
   "cell_type": "code",
   "execution_count": 14,
   "source": [
    "w = net.get_weights()[0]\r\n",
    "print('error in estimating w', true_w- tf.reshape(w, true_w.shape))\r\n",
    "\r\n",
    "b = net.get_weights()[1]\r\n",
    "print('error in estimating w', true_b- b)"
   ],
   "outputs": [
    {
     "output_type": "stream",
     "name": "stdout",
     "text": [
      "error in estimating w tf.Tensor([ 0.00036931 -0.00066328], shape=(2,), dtype=float32)\n"
     ]
    },
    {
     "output_type": "error",
     "ename": "AttributeError",
     "evalue": "'float' object has no attribute 'shape'",
     "traceback": [
      "\u001b[1;31m---------------------------------------------------------------------------\u001b[0m",
      "\u001b[1;31mAttributeError\u001b[0m                            Traceback (most recent call last)",
      "\u001b[1;32m<ipython-input-14-18ba45e6e35e>\u001b[0m in \u001b[0;36m<module>\u001b[1;34m\u001b[0m\n\u001b[0;32m      3\u001b[0m \u001b[1;33m\u001b[0m\u001b[0m\n\u001b[0;32m      4\u001b[0m \u001b[0mb\u001b[0m \u001b[1;33m=\u001b[0m \u001b[0mnet\u001b[0m\u001b[1;33m.\u001b[0m\u001b[0mget_weights\u001b[0m\u001b[1;33m(\u001b[0m\u001b[1;33m)\u001b[0m\u001b[1;33m[\u001b[0m\u001b[1;36m1\u001b[0m\u001b[1;33m]\u001b[0m\u001b[1;33m\u001b[0m\u001b[1;33m\u001b[0m\u001b[0m\n\u001b[1;32m----> 5\u001b[1;33m \u001b[0mprint\u001b[0m\u001b[1;33m(\u001b[0m\u001b[1;34m'error in estimating w'\u001b[0m\u001b[1;33m,\u001b[0m \u001b[0mtrue_b\u001b[0m\u001b[1;33m-\u001b[0m \u001b[0mtf\u001b[0m\u001b[1;33m.\u001b[0m\u001b[0mreshape\u001b[0m\u001b[1;33m(\u001b[0m\u001b[0mb\u001b[0m\u001b[1;33m,\u001b[0m \u001b[0mtrue_b\u001b[0m\u001b[1;33m.\u001b[0m\u001b[0mshape\u001b[0m\u001b[1;33m)\u001b[0m\u001b[1;33m)\u001b[0m\u001b[1;33m\u001b[0m\u001b[1;33m\u001b[0m\u001b[0m\n\u001b[0m",
      "\u001b[1;31mAttributeError\u001b[0m: 'float' object has no attribute 'shape'"
     ]
    }
   ],
   "metadata": {}
  }
 ],
 "metadata": {
  "kernelspec": {
   "name": "python3",
   "display_name": "Python 3.7.9 64-bit"
  },
  "language_info": {
   "codemirror_mode": {
    "name": "ipython",
    "version": 3
   },
   "file_extension": ".py",
   "mimetype": "text/x-python",
   "name": "python",
   "nbconvert_exporter": "python",
   "pygments_lexer": "ipython3",
   "version": "3.7.9"
  },
  "toc": {
   "base_numbering": 1,
   "nav_menu": {},
   "number_sections": true,
   "sideBar": true,
   "skip_h1_title": false,
   "title_cell": "Table of Contents",
   "title_sidebar": "Contents",
   "toc_cell": false,
   "toc_position": {},
   "toc_section_display": true,
   "toc_window_display": false
  },
  "varInspector": {
   "cols": {
    "lenName": 16,
    "lenType": 16,
    "lenVar": 40
   },
   "kernels_config": {
    "python": {
     "delete_cmd_postfix": "",
     "delete_cmd_prefix": "del ",
     "library": "var_list.py",
     "varRefreshCmd": "print(var_dic_list())"
    },
    "r": {
     "delete_cmd_postfix": ") ",
     "delete_cmd_prefix": "rm(",
     "library": "var_list.r",
     "varRefreshCmd": "cat(var_dic_list()) "
    }
   },
   "types_to_exclude": [
    "module",
    "function",
    "builtin_function_or_method",
    "instance",
    "_Feature"
   ],
   "window_display": false
  },
  "interpreter": {
   "hash": "360eb45faca1e4dfefc4f13aa9499776008d91528b4d443d812d58097d713eb4"
  }
 },
 "nbformat": 4,
 "nbformat_minor": 4
}