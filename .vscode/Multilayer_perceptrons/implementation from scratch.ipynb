{
 "cells": [
  {
   "cell_type": "code",
   "execution_count": 2,
   "source": [
    "import tensorflow as tf\r\n",
    "from d2l import tensorflow as d2l\r\n",
    "\r\n",
    "batch_size = 256\r\n",
    "train_iter, test_iter = d2l.load_data_fashion_mnist(batch_size)"
   ],
   "outputs": [],
   "metadata": {}
  },
  {
   "cell_type": "markdown",
   "source": [
    "initializing model parameters"
   ],
   "metadata": {}
  },
  {
   "cell_type": "code",
   "execution_count": 7,
   "source": [
    "num_inputs, num_outputs, num_hiddens = 784, 10, 256\r\n",
    "\r\n",
    "W1 = tf.Variable(tf.random.normal(shape = (num_inputs, num_hiddens), mean = 0, stddev = 0.01))\r\n",
    "b1 = tf.Variable(tf.zeros(num_hiddens))\r\n",
    "\r\n",
    "W2 = tf.Variable(tf.random.normal(shape = (num_hiddens, num_outputs), mean = 0, stddev = 0.01))\r\n",
    "b2 = tf.Variable(tf.random.normal([num_outputs], stddev = 0.01))"
   ],
   "outputs": [],
   "metadata": {}
  },
  {
   "cell_type": "markdown",
   "source": [
    "activation function"
   ],
   "metadata": {}
  },
  {
   "cell_type": "code",
   "execution_count": 8,
   "source": [
    "def relu(X):\r\n",
    "    return tf.math.maximum(X,0)"
   ],
   "outputs": [],
   "metadata": {}
  },
  {
   "cell_type": "markdown",
   "source": [
    "Model"
   ],
   "metadata": {}
  },
  {
   "cell_type": "code",
   "execution_count": 10,
   "source": [
    "def net(X):\r\n",
    "    X = tf.reshape(X, (-1, num_inputs))\r\n",
    "    H = tf.matmul(X, W1) + b1\r\n",
    "    return (tf.matmul(H, W2) + b2)"
   ],
   "outputs": [],
   "metadata": {}
  },
  {
   "cell_type": "markdown",
   "source": [
    "loss function"
   ],
   "metadata": {}
  },
  {
   "cell_type": "code",
   "execution_count": null,
   "source": [
    "def loss(y_hat, y):\r\n",
    "    return tf.losses.sparse_categorical_crossentropy(y, y_hat, from_logits = True)"
   ],
   "outputs": [],
   "metadata": {}
  }
 ],
 "metadata": {
  "orig_nbformat": 4,
  "language_info": {
   "name": "python",
   "version": "3.7.9",
   "mimetype": "text/x-python",
   "codemirror_mode": {
    "name": "ipython",
    "version": 3
   },
   "pygments_lexer": "ipython3",
   "nbconvert_exporter": "python",
   "file_extension": ".py"
  },
  "kernelspec": {
   "name": "python3",
   "display_name": "Python 3.7.9 64-bit"
  },
  "interpreter": {
   "hash": "360eb45faca1e4dfefc4f13aa9499776008d91528b4d443d812d58097d713eb4"
  }
 },
 "nbformat": 4,
 "nbformat_minor": 2
}