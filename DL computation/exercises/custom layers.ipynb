{
 "cells": [
  {
   "cell_type": "code",
   "execution_count": 1,
   "metadata": {},
   "outputs": [],
   "source": [
    "import tensorflow as tf\n",
    "import tensorflow.keras as keras\n",
    "import numpy as np\n"
   ]
  },
  {
   "cell_type": "code",
   "execution_count": 2,
   "metadata": {},
   "outputs": [],
   "source": [
    "class ReducedDense(keras.Model):\n",
    "    def __init__(self, units, k):\n",
    "        super().__init__()\n",
    "        self.units = units\n",
    "        self.no_of_weights = k\n",
    "    \n",
    "    def build(self, input):\n",
    "            self.weight = tf.Variable(np.random.uniform(0, 1, size=(self.no_of_weights, self.units , input[-1])), dtype=tf.float32)\n",
    "            print(self.weight.shape)\n",
    "            \n",
    "    def call(self, X ):\n",
    "        out =  tf.matmul(tf.transpose(X), X)\n",
    "        y = self.weight[2] \n",
    "        return [tf.matmul(self.weight[i] , out ) for i in range(self.no_of_weights)]\n",
    "        \n",
    "        \n",
    "    "
   ]
  },
  {
   "cell_type": "code",
   "execution_count": 3,
   "metadata": {},
   "outputs": [
    {
     "name": "stdout",
     "output_type": "stream",
     "text": [
      "(4, 3, 5)\n"
     ]
    },
    {
     "data": {
      "text/plain": [
       "[<tf.Tensor: shape=(3, 5), dtype=float32, numpy=\n",
       " array([[1.4702377 , 0.6974827 , 2.2187548 , 2.1723022 , 3.1104894 ],\n",
       "        [1.1871557 , 0.5868316 , 1.3668022 , 1.1532879 , 2.172224  ],\n",
       "        [0.60646194, 0.27467352, 1.1493514 , 1.2272085 , 1.47012   ]],\n",
       "       dtype=float32)>,\n",
       " <tf.Tensor: shape=(3, 5), dtype=float32, numpy=\n",
       " array([[1.0012593 , 0.48000753, 1.4210312 , 1.3521097 , 2.0464072 ],\n",
       "        [0.9977441 , 0.47940075, 1.3966683 , 1.3199608 , 2.0237436 ],\n",
       "        [0.43132132, 0.18241605, 1.0497912 , 1.201449  , 1.2312155 ]],\n",
       "       dtype=float32)>,\n",
       " <tf.Tensor: shape=(3, 5), dtype=float32, numpy=\n",
       " array([[1.0662556 , 0.512625  , 1.4870845 , 1.4028356 , 2.1583219 ],\n",
       "        [0.94007117, 0.4502172 , 1.3423915 , 1.2810804 , 1.9279015 ],\n",
       "        [0.75972104, 0.35410342, 1.2598488 , 1.2828122 , 1.6978536 ]],\n",
       "       dtype=float32)>,\n",
       " <tf.Tensor: shape=(3, 5), dtype=float32, numpy=\n",
       " array([[0.773331  , 0.3493951 , 1.480963  , 1.5866098 , 1.8869028 ],\n",
       "        [1.251149  , 0.5843079 , 2.054098  , 2.0833426 , 2.779586  ],\n",
       "        [1.3137985 , 0.63134885, 1.8374932 , 1.7358257 , 2.6635273 ]],\n",
       "       dtype=float32)>]"
      ]
     },
     "execution_count": 3,
     "metadata": {},
     "output_type": "execute_result"
    }
   ],
   "source": [
    "dense = ReducedDense(3, 4 )\n",
    "dense(tf.random.uniform((2, 5)))"
   ]
  },
  {
   "cell_type": "code",
   "execution_count": null,
   "metadata": {},
   "outputs": [],
   "source": []
  }
 ],
 "metadata": {
  "interpreter": {
   "hash": "360eb45faca1e4dfefc4f13aa9499776008d91528b4d443d812d58097d713eb4"
  },
  "kernelspec": {
   "display_name": "Python 3.7.9 64-bit ('d2l': venv)",
   "language": "python",
   "name": "python3"
  },
  "language_info": {
   "codemirror_mode": {
    "name": "ipython",
    "version": 3
   },
   "file_extension": ".py",
   "mimetype": "text/x-python",
   "name": "python",
   "nbconvert_exporter": "python",
   "pygments_lexer": "ipython3",
   "version": "3.7.9"
  },
  "orig_nbformat": 4
 },
 "nbformat": 4,
 "nbformat_minor": 2
}
