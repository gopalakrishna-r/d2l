{
 "cells": [
  {
   "cell_type": "code",
   "execution_count": null,
   "metadata": {},
   "outputs": [],
   "source": [
    "import tensorflow as tf\n",
    "import tensorflow.keras as keras"
   ]
  },
  {
   "cell_type": "code",
   "execution_count": null,
   "metadata": {},
   "outputs": [],
   "source": [
    "class ParallelBlock(keras.Model):\n",
    "    def __init__(self, *args):\n",
    "        super().__init__()\n",
    "        self.net1 = []\n",
    "        self.net2 = []\n",
    "        for block in args[0]:\n",
    "            self.net1.append(block)\n",
    "        for block in args[1]:\n",
    "            self.net2.append(block)\n",
    "    \n",
    "    def call(self, X):\n",
    "        net1_input, net2_input = X , X\n",
    "        for module in self.net1:\n",
    "           net1_input = module(net1_input)\n",
    "        for module in self.net2:\n",
    "           net2_input = module(net2_input)\n",
    "        return (net1_input, net2_input)\n",
    "    "
   ]
  },
  {
   "cell_type": "code",
   "execution_count": null,
   "metadata": {},
   "outputs": [],
   "source": [
    "X = tf.random.uniform((2, 20))"
   ]
  },
  {
   "cell_type": "code",
   "execution_count": null,
   "metadata": {},
   "outputs": [],
   "source": [
    "block1 = [keras.layers.Dense(32, activation=tf.nn.relu), \n",
    "                     keras.layers.Dense(16, activation=tf.nn.relu),\n",
    "                     keras.layers.Dense(10)]\n",
    "\n",
    "block2 = [keras.layers.Dense(64, activation=tf.nn.relu), \n",
    "                     keras.layers.Dense(32, activation=tf.nn.relu),\n",
    "                     keras.layers.Dense(16, activation=tf.nn.relu),\n",
    "                     keras.layers.Dense(10)]\n"
   ]
  },
  {
   "cell_type": "code",
   "execution_count": null,
   "metadata": {},
   "outputs": [],
   "source": [
    "model1 = tf.keras.models.Sequential(block1)\n",
    "model2 = tf.keras.models.Sequential(block2)\n",
    "model_outputs = model1(X), model2(X)\n"
   ]
  },
  {
   "cell_type": "code",
   "execution_count": null,
   "metadata": {},
   "outputs": [],
   "source": [
    "net = ParallelBlock(block1,\n",
    "                    block2)\n",
    "parallel_blk_op = net(X)\n",
    "assert(tf.reduce_all(tf.math.equal(parallel_blk_op[0], model_outputs[0])))\n",
    "assert(tf.reduce_all(tf.math.equal(parallel_blk_op[1], model_outputs[1])))"
   ]
  },
  {
   "cell_type": "code",
   "execution_count": null,
   "metadata": {},
   "outputs": [],
   "source": []
  }
 ],
 "metadata": {
  "interpreter": {
   "hash": "360eb45faca1e4dfefc4f13aa9499776008d91528b4d443d812d58097d713eb4"
  },
  "kernelspec": {
   "display_name": "Python 3.7.9 64-bit ('d2l': venv)",
   "language": "python",
   "name": "python3"
  },
  "language_info": {
   "codemirror_mode": {
    "name": "ipython",
    "version": 3
   },
   "file_extension": ".py",
   "mimetype": "text/x-python",
   "name": "python",
   "nbconvert_exporter": "python",
   "pygments_lexer": "ipython3",
   "version": "3.7.9"
  },
  "orig_nbformat": 4
 },
 "nbformat": 4,
 "nbformat_minor": 2
}
