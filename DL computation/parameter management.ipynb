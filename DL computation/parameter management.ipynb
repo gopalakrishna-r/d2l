{
 "cells": [
  {
   "cell_type": "code",
   "execution_count": 1,
   "metadata": {},
   "outputs": [
    {
     "data": {
      "text/plain": [
       "<tf.Tensor: shape=(2, 1), dtype=float32, numpy=\n",
       "array([[-0.6981816 ],\n",
       "       [-0.54036057]], dtype=float32)>"
      ]
     },
     "execution_count": 1,
     "metadata": {},
     "output_type": "execute_result"
    }
   ],
   "source": [
    "import tensorflow as tf\n",
    "import tensorflow.keras as keras\n",
    "\n",
    "net = keras.models.Sequential([\n",
    "    keras.layers.Flatten(),\n",
    "    keras.layers.Dense(4, activation = tf.nn.relu),\n",
    "    keras.layers.Dense(1)\n",
    "])\n",
    "\n",
    "X = tf.random.uniform((2, 4))\n",
    "net(X)"
   ]
  },
  {
   "cell_type": "code",
   "execution_count": 2,
   "metadata": {},
   "outputs": [
    {
     "name": "stdout",
     "output_type": "stream",
     "text": [
      "Model: \"sequential\"\n",
      "_________________________________________________________________\n",
      "Layer (type)                 Output Shape              Param #   \n",
      "=================================================================\n",
      "flatten (Flatten)            (2, 4)                    0         \n",
      "_________________________________________________________________\n",
      "dense (Dense)                (2, 4)                    20        \n",
      "_________________________________________________________________\n",
      "dense_1 (Dense)              (2, 1)                    5         \n",
      "=================================================================\n",
      "Total params: 25\n",
      "Trainable params: 25\n",
      "Non-trainable params: 0\n",
      "_________________________________________________________________\n"
     ]
    },
    {
     "data": {
      "text/plain": [
       "([<tf.Variable 'dense_1/kernel:0' shape=(4, 1) dtype=float32, numpy=\n",
       "  array([[-0.8833629 ],\n",
       "         [-1.0624901 ],\n",
       "         [-0.21926719],\n",
       "         [-0.787276  ]], dtype=float32)>,\n",
       "  <tf.Variable 'dense_1/bias:0' shape=(1,) dtype=float32, numpy=array([0.], dtype=float32)>],\n",
       " None)"
      ]
     },
     "execution_count": 2,
     "metadata": {},
     "output_type": "execute_result"
    }
   ],
   "source": [
    "net.layers[2].weights, net.summary()"
   ]
  },
  {
   "cell_type": "code",
   "execution_count": 3,
   "metadata": {},
   "outputs": [
    {
     "name": "stdout",
     "output_type": "stream",
     "text": [
      "<tf.Variable 'dense_1/bias:0' shape=(1,) dtype=float32, numpy=array([0.], dtype=float32)>\n",
      "tf.Tensor([0.], shape=(1,), dtype=float32)\n"
     ]
    }
   ],
   "source": [
    "print(net.layers[2].weights[1])\n",
    "print(tf.convert_to_tensor(net.layers[2].weights[1]))"
   ]
  },
  {
   "cell_type": "code",
   "execution_count": 4,
   "metadata": {},
   "outputs": [
    {
     "name": "stdout",
     "output_type": "stream",
     "text": [
      "[array([[-0.37501797,  0.84488636,  0.7113971 , -0.685379  ],\n",
      "       [-0.25694746,  0.17305475, -0.5971384 , -0.44869542],\n",
      "       [-0.77803624,  0.30461687, -0.02566749, -0.3128227 ],\n",
      "       [ 0.5476065 , -0.7738194 ,  0.4352041 ,  0.06677824]],\n",
      "      dtype=float32), array([0., 0., 0., 0.], dtype=float32), array([[-0.8833629 ],\n",
      "       [-1.0624901 ],\n",
      "       [-0.21926719],\n",
      "       [-0.787276  ]], dtype=float32), array([0.], dtype=float32)]\n"
     ]
    }
   ],
   "source": [
    "print(net.get_weights())"
   ]
  },
  {
   "cell_type": "code",
   "execution_count": 5,
   "metadata": {},
   "outputs": [
    {
     "name": "stdout",
     "output_type": "stream",
     "text": [
      "4\n",
      "[0. 0. 0. 0.]\n"
     ]
    },
    {
     "data": {
      "text/plain": [
       "(None, None)"
      ]
     },
     "execution_count": 5,
     "metadata": {},
     "output_type": "execute_result"
    }
   ],
   "source": [
    "print(len(net.get_weights())), print(net.get_weights()[1])"
   ]
  },
  {
   "cell_type": "code",
   "execution_count": 6,
   "metadata": {},
   "outputs": [
    {
     "data": {
      "text/plain": [
       "<tf.Tensor: shape=(2, 1), dtype=float32, numpy=\n",
       "array([[0.5793845],\n",
       "       [0.5411532]], dtype=float32)>"
      ]
     },
     "execution_count": 6,
     "metadata": {},
     "output_type": "execute_result"
    }
   ],
   "source": [
    "def block1(name):\n",
    "    return keras.models.Sequential([\n",
    "        keras.layers.Flatten(),\n",
    "        keras.layers.Dense(4, activation= tf.nn.relu),\n",
    "    \n",
    "    ], name = name)\n",
    "    \n",
    "def block2():\n",
    "    net = keras.models.Sequential()\n",
    "    for i in range(4):\n",
    "        net.add(block1(name = f'block-{i}'))\n",
    "    return net\n",
    "\n",
    "rgnet = keras.models.Sequential()\n",
    "rgnet.add(block2())\n",
    "rgnet.add(keras.layers.Dense(1))\n",
    "rgnet(X)\n",
    "\n"
   ]
  },
  {
   "cell_type": "code",
   "execution_count": 7,
   "metadata": {},
   "outputs": [
    {
     "name": "stdout",
     "output_type": "stream",
     "text": [
      "Model: \"sequential_1\"\n",
      "_________________________________________________________________\n",
      "Layer (type)                 Output Shape              Param #   \n",
      "=================================================================\n",
      "sequential_2 (Sequential)    (2, 4)                    80        \n",
      "_________________________________________________________________\n",
      "dense_6 (Dense)              (2, 1)                    5         \n",
      "=================================================================\n",
      "Total params: 85\n",
      "Trainable params: 85\n",
      "Non-trainable params: 0\n",
      "_________________________________________________________________\n",
      "None\n"
     ]
    }
   ],
   "source": [
    "print(rgnet.summary())"
   ]
  },
  {
   "cell_type": "code",
   "execution_count": 8,
   "metadata": {},
   "outputs": [
    {
     "data": {
      "text/plain": [
       "[array([[-0.78924793, -0.21745658,  0.04612499,  0.6686247 ],\n",
       "        [ 0.7360721 ,  0.52344304, -0.20845848,  0.5855027 ],\n",
       "        [-0.79909354, -0.6905996 ,  0.3858052 ,  0.7430673 ],\n",
       "        [ 0.5731124 , -0.5192701 ,  0.6133968 , -0.00160617]],\n",
       "       dtype=float32),\n",
       " array([0., 0., 0., 0.], dtype=float32)]"
      ]
     },
     "execution_count": 8,
     "metadata": {},
     "output_type": "execute_result"
    }
   ],
   "source": [
    "rgnet.layers[0].layers[1].layers[1].get_weights()"
   ]
  },
  {
   "cell_type": "code",
   "execution_count": 9,
   "metadata": {},
   "outputs": [
    {
     "name": "stdout",
     "output_type": "stream",
     "text": [
      "Model: \"sequential_3\"\n",
      "_________________________________________________________________\n",
      "Layer (type)                 Output Shape              Param #   \n",
      "=================================================================\n",
      "flatten_5 (Flatten)          (2, 4)                    0         \n",
      "_________________________________________________________________\n",
      "dense_7 (Dense)              (2, 4)                    20        \n",
      "_________________________________________________________________\n",
      "dense_8 (Dense)              (2, 1)                    5         \n",
      "=================================================================\n",
      "Total params: 25\n",
      "Trainable params: 25\n",
      "Non-trainable params: 0\n",
      "_________________________________________________________________\n"
     ]
    },
    {
     "data": {
      "text/plain": [
       "(<tf.Variable 'dense_7/kernel:0' shape=(4, 4) dtype=float32, numpy=\n",
       " array([[ 0.00683765,  0.00098835, -0.00499818,  0.02634917],\n",
       "        [ 0.00810222, -0.01525083, -0.01385352, -0.00394089],\n",
       "        [ 0.00030069,  0.00889236,  0.02368973,  0.0168944 ],\n",
       "        [-0.00046644,  0.00849263, -0.01445713,  0.00022631]],\n",
       "       dtype=float32)>,\n",
       " <tf.Variable 'dense_7/bias:0' shape=(4,) dtype=float32, numpy=array([0., 0., 0., 0.], dtype=float32)>,\n",
       " None)"
      ]
     },
     "execution_count": 9,
     "metadata": {},
     "output_type": "execute_result"
    }
   ],
   "source": [
    "net = keras.models.Sequential([\n",
    "    keras.layers.Flatten(),\n",
    "    keras.layers.Dense(4, activation=tf.nn.relu, kernel_initializer=tf.random_normal_initializer(mean=0, stddev=.01),\n",
    "                       bias_initializer = tf.zeros_initializer()),\n",
    "    keras.layers.Dense(1)\n",
    "])\n",
    "\n",
    "net(X)\n",
    "net.weights[0], net.weights[1], net.summary()"
   ]
  },
  {
   "cell_type": "code",
   "execution_count": 11,
   "metadata": {},
   "outputs": [
    {
     "data": {
      "text/plain": [
       "(<tf.Variable 'dense_11/kernel:0' shape=(4, 4) dtype=float32, numpy=\n",
       " array([[1., 1., 1., 1.],\n",
       "        [1., 1., 1., 1.],\n",
       "        [1., 1., 1., 1.],\n",
       "        [1., 1., 1., 1.]], dtype=float32)>,\n",
       " <tf.Variable 'dense_11/bias:0' shape=(4,) dtype=float32, numpy=array([0., 0., 0., 0.], dtype=float32)>,\n",
       " <tf.Variable 'dense_12/kernel:0' shape=(4, 1) dtype=float32, numpy=\n",
       " array([[-0.17762005],\n",
       "        [-0.52224344],\n",
       "        [-0.27549207],\n",
       "        [ 0.1544205 ]], dtype=float32)>)"
      ]
     },
     "execution_count": 11,
     "metadata": {},
     "output_type": "execute_result"
    }
   ],
   "source": [
    "net = keras.models.Sequential([\n",
    "    keras.layers.Flatten(),\n",
    "    keras.layers.Dense(4, activation=tf.nn.relu, kernel_initializer=tf.constant_initializer(1),\n",
    "                       bias_initializer = tf.zeros_initializer()),\n",
    "    keras.layers.Dense(1)\n",
    "])\n",
    "\n",
    "net(X)\n",
    "net.weights[0], net.weights[1]"
   ]
  },
  {
   "cell_type": "code",
   "execution_count": 17,
   "metadata": {},
   "outputs": [
    {
     "name": "stdout",
     "output_type": "stream",
     "text": [
      "<tf.Variable 'dense_13/kernel:0' shape=(4, 4) dtype=float32, numpy=\n",
      "array([[ 7.226507 , -5.7879996,  0.       ,  6.486471 ],\n",
      "       [-5.8793545, -7.746544 ,  0.       ,  6.2583504],\n",
      "       [-7.0257425,  0.       , -8.705349 ,  6.4796677],\n",
      "       [ 6.9662247,  8.512766 ,  0.       ,  0.       ]], dtype=float32)>\n"
     ]
    }
   ],
   "source": [
    "class MyInit(tf.keras.initializers.Initializer):\n",
    "    def __call__(self, shape, dtype = None):\n",
    "        data = tf.random.uniform(shape, -10, 10, dtype = dtype)\n",
    "        factor = (tf.abs(data) >= 5)\n",
    "        factor = tf.cast(factor, tf.float32)\n",
    "        return data * factor\n",
    "    \n",
    "net = keras.models.Sequential([\n",
    "    keras.layers.Flatten(),\n",
    "    keras.layers.Dense(4, activation=tf.nn.relu, kernel_initializer=MyInit()), \n",
    "    keras.layers.Dense(1)\n",
    "])\n",
    "\n",
    "net(X)\n",
    "print(net.layers[1].weights[0])\n",
    "        "
   ]
  },
  {
   "cell_type": "code",
   "execution_count": null,
   "metadata": {},
   "outputs": [],
   "source": []
  }
 ],
 "metadata": {
  "interpreter": {
   "hash": "360eb45faca1e4dfefc4f13aa9499776008d91528b4d443d812d58097d713eb4"
  },
  "kernelspec": {
   "display_name": "Python 3.7.9 64-bit ('d2l': venv)",
   "language": "python",
   "name": "python3"
  },
  "language_info": {
   "codemirror_mode": {
    "name": "ipython",
    "version": 3
   },
   "file_extension": ".py",
   "mimetype": "text/x-python",
   "name": "python",
   "nbconvert_exporter": "python",
   "pygments_lexer": "ipython3",
   "version": "3.7.9"
  },
  "orig_nbformat": 4
 },
 "nbformat": 4,
 "nbformat_minor": 2
}
