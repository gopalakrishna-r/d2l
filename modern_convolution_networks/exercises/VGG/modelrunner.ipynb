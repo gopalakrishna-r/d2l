{
 "cells": [
  {
   "cell_type": "markdown",
   "metadata": {},
   "source": [
    "Try changing the height and width of the images in Fashion-MNIST from 224 to 96. What influence does this have on the experiments?"
   ]
  },
  {
   "cell_type": "code",
   "execution_count": 1,
   "metadata": {},
   "outputs": [],
   "source": [
    "import tensorflow as tf\n",
    "import tensorflow.keras as keras\n",
    "from block import vgg, vgg16\n",
    "from d2l import tensorflow as d2l\n",
    "from tensorpack.tfutils.tower import TowerContext\n",
    "\n"
   ]
  },
  {
   "cell_type": "code",
   "execution_count": 2,
   "metadata": {},
   "outputs": [
    {
     "name": "stdout",
     "output_type": "stream",
     "text": [
      "\u001b[32m[0307 13:15:30 @registry.py:90]\u001b[0m 'layer_0_16_0': [?, 96, 96, 1] --> [?, 96, 96, 16]\n",
      "\u001b[32m[0307 13:15:30 @registry.py:90]\u001b[0m 'layer_0_16': [?, 96, 96, 16] --> [?, 48, 48, 16]\n",
      "\u001b[32m[0307 13:15:30 @registry.py:90]\u001b[0m 'layer_1_32_0': [?, 48, 48, 16] --> [?, 48, 48, 32]\n",
      "\u001b[32m[0307 13:15:30 @registry.py:90]\u001b[0m 'layer_1_32': [?, 48, 48, 32] --> [?, 24, 24, 32]\n",
      "\u001b[32m[0307 13:15:30 @registry.py:90]\u001b[0m 'layer_2_64_0': [?, 24, 24, 32] --> [?, 24, 24, 64]\n",
      "\u001b[32m[0307 13:15:30 @registry.py:90]\u001b[0m 'layer_2_64_1': [?, 24, 24, 64] --> [?, 24, 24, 64]\n",
      "\u001b[32m[0307 13:15:30 @registry.py:90]\u001b[0m 'layer_2_64': [?, 24, 24, 64] --> [?, 12, 12, 64]\n",
      "\u001b[32m[0307 13:15:30 @registry.py:90]\u001b[0m 'layer_3_128_0': [?, 12, 12, 64] --> [?, 12, 12, 128]\n",
      "\u001b[32m[0307 13:15:30 @registry.py:90]\u001b[0m 'layer_3_128_1': [?, 12, 12, 128] --> [?, 12, 12, 128]\n",
      "\u001b[32m[0307 13:15:31 @registry.py:90]\u001b[0m 'layer_3_128': [?, 12, 12, 128] --> [?, 6, 6, 128]\n",
      "\u001b[32m[0307 13:15:31 @registry.py:90]\u001b[0m 'layer_4_128_0': [?, 6, 6, 128] --> [?, 6, 6, 128]\n",
      "\u001b[32m[0307 13:15:31 @registry.py:90]\u001b[0m 'layer_4_128_1': [?, 6, 6, 128] --> [?, 6, 6, 128]\n",
      "\u001b[32m[0307 13:15:31 @registry.py:90]\u001b[0m 'layer_4_128': [?, 6, 6, 128] --> [?, 3, 3, 128]\n",
      "\u001b[32m[0307 13:15:31 @registry.py:90]\u001b[0m 'fcn_1': [?, 1152] --> [?, 4096]\n",
      "\u001b[32m[0307 13:15:31 @registry.py:90]\u001b[0m 'fcn_2': [?, 4096] --> [?, 4096]\n",
      "\u001b[32m[0307 13:15:31 @registry.py:90]\u001b[0m 'fcn_3': [?, 4096] --> [?, 10]\n"
     ]
    },
    {
     "ename": "TypeError",
     "evalue": "The following are legacy tf.layers.Layers:\n  <tensorflow.python.layers.convolutional.Conv2D object at 0x0000021B86931188>\n  <tensorflow.python.layers.pooling.MaxPooling2D object at 0x0000021B6E8B4C48>\n  <tensorflow.python.layers.convolutional.Conv2D object at 0x0000021E2A15D648>\n  <tensorflow.python.layers.pooling.MaxPooling2D object at 0x0000021E2A15D4C8>\n  <tensorflow.python.layers.convolutional.Conv2D object at 0x0000021E2A16D808>\n  <tensorflow.python.layers.convolutional.Conv2D object at 0x0000021E2A164F48>\n  <tensorflow.python.layers.pooling.MaxPooling2D object at 0x0000021E2A177388>\n  <tensorflow.python.layers.convolutional.Conv2D object at 0x0000021E2A1843C8>\n  <tensorflow.python.layers.convolutional.Conv2D object at 0x0000021E2A187488>\n  <tensorflow.python.layers.pooling.MaxPooling2D object at 0x0000021E2A18D088>\n  <tensorflow.python.layers.convolutional.Conv2D object at 0x0000021E2A198FC8>\n  <tensorflow.python.layers.convolutional.Conv2D object at 0x0000021E2A184148>\n  <tensorflow.python.layers.pooling.MaxPooling2D object at 0x0000021E2A1A5C88>\n  <tensorflow.python.layers.core.Dense object at 0x0000021E2A1B9D88>\n  <tensorflow.python.layers.core.Dense object at 0x0000021E2A1DD6C8>\n  <tensorflow.python.layers.core.Dense object at 0x0000021E2A1F6B08>\nTo use keras as a framework (for instance using the Network, Model, or Sequential classes), please use the tf.keras.layers implementation instead. (Or, if writing custom layers, subclass from tf.keras.layers rather than tf.layers)",
     "output_type": "error",
     "traceback": [
      "\u001b[1;31m---------------------------------------------------------------------------\u001b[0m",
      "\u001b[1;31mTypeError\u001b[0m                                 Traceback (most recent call last)",
      "\u001b[1;32m<ipython-input-2-06273281cd71>\u001b[0m in \u001b[0;36m<module>\u001b[1;34m\u001b[0m\n\u001b[0;32m      4\u001b[0m     \u001b[0mratio\u001b[0m \u001b[1;33m=\u001b[0m \u001b[1;36m4\u001b[0m\u001b[1;33m\u001b[0m\u001b[1;33m\u001b[0m\u001b[0m\n\u001b[0;32m      5\u001b[0m     \u001b[0msmall_conv_arch\u001b[0m \u001b[1;33m=\u001b[0m \u001b[1;33m[\u001b[0m\u001b[1;33m(\u001b[0m\u001b[0mpair\u001b[0m\u001b[1;33m[\u001b[0m\u001b[1;36m0\u001b[0m\u001b[1;33m]\u001b[0m\u001b[1;33m,\u001b[0m \u001b[0mpair\u001b[0m\u001b[1;33m[\u001b[0m\u001b[1;36m1\u001b[0m\u001b[1;33m]\u001b[0m\u001b[1;33m//\u001b[0m\u001b[0mratio\u001b[0m\u001b[1;33m)\u001b[0m \u001b[1;32mfor\u001b[0m \u001b[0mpair\u001b[0m \u001b[1;32min\u001b[0m \u001b[0mconvo_arch\u001b[0m\u001b[1;33m]\u001b[0m\u001b[1;33m\u001b[0m\u001b[1;33m\u001b[0m\u001b[0m\n\u001b[1;32m----> 6\u001b[1;33m     \u001b[0mnet\u001b[0m \u001b[1;33m=\u001b[0m \u001b[0mvgg\u001b[0m\u001b[1;33m(\u001b[0m\u001b[0msmall_conv_arch\u001b[0m\u001b[1;33m)\u001b[0m\u001b[1;33m\u001b[0m\u001b[1;33m\u001b[0m\u001b[0m\n\u001b[0m\u001b[0;32m      7\u001b[0m \u001b[1;33m\u001b[0m\u001b[0m\n\u001b[0;32m      8\u001b[0m     \u001b[0mlr\u001b[0m\u001b[1;33m,\u001b[0m \u001b[0mnum_epochs\u001b[0m\u001b[1;33m,\u001b[0m \u001b[0mbatch_size\u001b[0m \u001b[1;33m=\u001b[0m \u001b[1;36m0.05\u001b[0m\u001b[1;33m,\u001b[0m \u001b[1;36m10\u001b[0m\u001b[1;33m,\u001b[0m \u001b[1;36m128\u001b[0m\u001b[1;33m\u001b[0m\u001b[1;33m\u001b[0m\u001b[0m\n",
      "\u001b[1;32md:\\codebase\\d2l-2\\modern_convolution_networks\\exercises\\VGG\\block.py\u001b[0m in \u001b[0;36mvgg\u001b[1;34m(conv_arch)\u001b[0m\n\u001b[0;32m     26\u001b[0m     \u001b[0moutput\u001b[0m \u001b[1;33m=\u001b[0m \u001b[0mFullyConnected\u001b[0m\u001b[1;33m(\u001b[0m\u001b[1;34m'fcn_3'\u001b[0m\u001b[1;33m,\u001b[0m \u001b[0ml\u001b[0m\u001b[1;33m,\u001b[0m \u001b[0munits\u001b[0m\u001b[1;33m=\u001b[0m\u001b[1;36m10\u001b[0m\u001b[1;33m,\u001b[0m \u001b[0mactivation\u001b[0m\u001b[1;33m=\u001b[0m\u001b[1;34m'linear'\u001b[0m\u001b[1;33m)\u001b[0m\u001b[1;33m\u001b[0m\u001b[1;33m\u001b[0m\u001b[0m\n\u001b[0;32m     27\u001b[0m \u001b[1;33m\u001b[0m\u001b[0m\n\u001b[1;32m---> 28\u001b[1;33m     \u001b[1;32mreturn\u001b[0m \u001b[0mtf\u001b[0m\u001b[1;33m.\u001b[0m\u001b[0mkeras\u001b[0m\u001b[1;33m.\u001b[0m\u001b[0mModel\u001b[0m\u001b[1;33m(\u001b[0m\u001b[0minput\u001b[0m\u001b[1;33m,\u001b[0m \u001b[0moutput\u001b[0m\u001b[1;33m)\u001b[0m\u001b[1;33m\u001b[0m\u001b[1;33m\u001b[0m\u001b[0m\n\u001b[0m\u001b[0;32m     29\u001b[0m \u001b[1;33m\u001b[0m\u001b[0m\n\u001b[0;32m     30\u001b[0m \u001b[1;33m\u001b[0m\u001b[0m\n",
      "\u001b[1;32m~\\d2l\\lib\\site-packages\\tensorflow\\python\\keras\\engine\\training.py\u001b[0m in \u001b[0;36m__init__\u001b[1;34m(self, *args, **kwargs)\u001b[0m\n\u001b[0;32m    165\u001b[0m \u001b[1;33m\u001b[0m\u001b[0m\n\u001b[0;32m    166\u001b[0m   \u001b[1;32mdef\u001b[0m \u001b[0m__init__\u001b[0m\u001b[1;33m(\u001b[0m\u001b[0mself\u001b[0m\u001b[1;33m,\u001b[0m \u001b[1;33m*\u001b[0m\u001b[0margs\u001b[0m\u001b[1;33m,\u001b[0m \u001b[1;33m**\u001b[0m\u001b[0mkwargs\u001b[0m\u001b[1;33m)\u001b[0m\u001b[1;33m:\u001b[0m\u001b[1;33m\u001b[0m\u001b[1;33m\u001b[0m\u001b[0m\n\u001b[1;32m--> 167\u001b[1;33m     \u001b[0msuper\u001b[0m\u001b[1;33m(\u001b[0m\u001b[0mModel\u001b[0m\u001b[1;33m,\u001b[0m \u001b[0mself\u001b[0m\u001b[1;33m)\u001b[0m\u001b[1;33m.\u001b[0m\u001b[0m__init__\u001b[0m\u001b[1;33m(\u001b[0m\u001b[1;33m*\u001b[0m\u001b[0margs\u001b[0m\u001b[1;33m,\u001b[0m \u001b[1;33m**\u001b[0m\u001b[0mkwargs\u001b[0m\u001b[1;33m)\u001b[0m\u001b[1;33m\u001b[0m\u001b[1;33m\u001b[0m\u001b[0m\n\u001b[0m\u001b[0;32m    168\u001b[0m     \u001b[0m_keras_api_gauge\u001b[0m\u001b[1;33m.\u001b[0m\u001b[0mget_cell\u001b[0m\u001b[1;33m(\u001b[0m\u001b[1;34m'model'\u001b[0m\u001b[1;33m)\u001b[0m\u001b[1;33m.\u001b[0m\u001b[0mset\u001b[0m\u001b[1;33m(\u001b[0m\u001b[1;32mTrue\u001b[0m\u001b[1;33m)\u001b[0m\u001b[1;33m\u001b[0m\u001b[1;33m\u001b[0m\u001b[0m\n\u001b[0;32m    169\u001b[0m     \u001b[1;31m# Model must be created under scope of DistStrat it will be trained with.\u001b[0m\u001b[1;33m\u001b[0m\u001b[1;33m\u001b[0m\u001b[1;33m\u001b[0m\u001b[0m\n",
      "\u001b[1;32m~\\d2l\\lib\\site-packages\\tensorflow\\python\\keras\\engine\\network.py\u001b[0m in \u001b[0;36m__init__\u001b[1;34m(self, *args, **kwargs)\u001b[0m\n\u001b[0;32m    176\u001b[0m       \u001b[0mself\u001b[0m\u001b[1;33m.\u001b[0m\u001b[0m_init_subclassed_network\u001b[0m\u001b[1;33m(\u001b[0m\u001b[1;33m**\u001b[0m\u001b[0mkwargs\u001b[0m\u001b[1;33m)\u001b[0m\u001b[1;33m\u001b[0m\u001b[1;33m\u001b[0m\u001b[0m\n\u001b[0;32m    177\u001b[0m \u001b[1;33m\u001b[0m\u001b[0m\n\u001b[1;32m--> 178\u001b[1;33m     \u001b[0mtf_utils\u001b[0m\u001b[1;33m.\u001b[0m\u001b[0massert_no_legacy_layers\u001b[0m\u001b[1;33m(\u001b[0m\u001b[0mself\u001b[0m\u001b[1;33m.\u001b[0m\u001b[0mlayers\u001b[0m\u001b[1;33m)\u001b[0m\u001b[1;33m\u001b[0m\u001b[1;33m\u001b[0m\u001b[0m\n\u001b[0m\u001b[0;32m    179\u001b[0m \u001b[1;33m\u001b[0m\u001b[0m\n\u001b[0;32m    180\u001b[0m   \u001b[1;31m# Several Network methods have \"no_automatic_dependency_tracking\"\u001b[0m\u001b[1;33m\u001b[0m\u001b[1;33m\u001b[0m\u001b[1;33m\u001b[0m\u001b[0m\n",
      "\u001b[1;32m~\\d2l\\lib\\site-packages\\tensorflow\\python\\keras\\utils\\tf_utils.py\u001b[0m in \u001b[0;36massert_no_legacy_layers\u001b[1;34m(layers)\u001b[0m\n\u001b[0;32m    431\u001b[0m         \u001b[1;34m'classes), please use the tf.keras.layers implementation instead. '\u001b[0m\u001b[1;33m\u001b[0m\u001b[1;33m\u001b[0m\u001b[0m\n\u001b[0;32m    432\u001b[0m         \u001b[1;34m'(Or, if writing custom layers, subclass from tf.keras.layers rather '\u001b[0m\u001b[1;33m\u001b[0m\u001b[1;33m\u001b[0m\u001b[0m\n\u001b[1;32m--> 433\u001b[1;33m         'than tf.layers)'.format(layer_str))\n\u001b[0m\u001b[0;32m    434\u001b[0m \u001b[1;33m\u001b[0m\u001b[0m\n\u001b[0;32m    435\u001b[0m \u001b[1;33m\u001b[0m\u001b[0m\n",
      "\u001b[1;31mTypeError\u001b[0m: The following are legacy tf.layers.Layers:\n  <tensorflow.python.layers.convolutional.Conv2D object at 0x0000021B86931188>\n  <tensorflow.python.layers.pooling.MaxPooling2D object at 0x0000021B6E8B4C48>\n  <tensorflow.python.layers.convolutional.Conv2D object at 0x0000021E2A15D648>\n  <tensorflow.python.layers.pooling.MaxPooling2D object at 0x0000021E2A15D4C8>\n  <tensorflow.python.layers.convolutional.Conv2D object at 0x0000021E2A16D808>\n  <tensorflow.python.layers.convolutional.Conv2D object at 0x0000021E2A164F48>\n  <tensorflow.python.layers.pooling.MaxPooling2D object at 0x0000021E2A177388>\n  <tensorflow.python.layers.convolutional.Conv2D object at 0x0000021E2A1843C8>\n  <tensorflow.python.layers.convolutional.Conv2D object at 0x0000021E2A187488>\n  <tensorflow.python.layers.pooling.MaxPooling2D object at 0x0000021E2A18D088>\n  <tensorflow.python.layers.convolutional.Conv2D object at 0x0000021E2A198FC8>\n  <tensorflow.python.layers.convolutional.Conv2D object at 0x0000021E2A184148>\n  <tensorflow.python.layers.pooling.MaxPooling2D object at 0x0000021E2A1A5C88>\n  <tensorflow.python.layers.core.Dense object at 0x0000021E2A1B9D88>\n  <tensorflow.python.layers.core.Dense object at 0x0000021E2A1DD6C8>\n  <tensorflow.python.layers.core.Dense object at 0x0000021E2A1F6B08>\nTo use keras as a framework (for instance using the Network, Model, or Sequential classes), please use the tf.keras.layers implementation instead. (Or, if writing custom layers, subclass from tf.keras.layers rather than tf.layers)"
     ]
    }
   ],
   "source": [
    "convo_arch = [(1, 64), (1, 128), (2, 256), (2, 512), (2, 512)]\n",
    "\n",
    "with TowerContext('', is_training=True):\n",
    "    ratio = 4\n",
    "    small_conv_arch = [(pair[0], pair[1]//ratio) for pair in convo_arch]\n",
    "    net = vgg(small_conv_arch)\n",
    "\n",
    "    lr, num_epochs, batch_size = 0.05, 10, 128\n",
    "    train_iter, test_iter = d2l.load_data_fashion_mnist(batch_size, resize=96)\n",
    "    \n",
    "    optimizer = tf.keras.optimizers.SGD(learning_rate=lr)\n",
    "    loss = tf.keras.losses.SparseCategoricalCrossentropy(from_logits=True)\n",
    "    net.compile(optimizer=optimizer, loss=loss, metrics=['accuracy'])\n",
    "    callback = d2l.TrainCallback(net, train_iter, test_iter, num_epochs, d2l.try_gpu()._device_name)\n",
    "    net.fit(train_iter, epochs=num_epochs, verbose=0, callbacks=[callback])\n"
   ]
  },
  {
   "cell_type": "markdown",
   "metadata": {},
   "source": [
    "Refer to Table 1 in the VGG paper [Simonyan & Zisserman, 2014] to construct other common models, such as VGG-16 or VGG-19."
   ]
  },
  {
   "cell_type": "markdown",
   "metadata": {},
   "source": [
    "VGG16"
   ]
  },
  {
   "cell_type": "code",
   "execution_count": null,
   "metadata": {},
   "outputs": [],
   "source": [
    "convo_arch = [(2, 64), (2, 128), (3, 256), (3, 512), (3, 512)]\n",
    "\n",
    "with TowerContext('', is_training=True):\n",
    "    \n",
    "    net = vgg16(convo_arch)\n",
    "\n",
    "    lr, num_epochs, batch_size = 0.05, 10, 128\n",
    "    train_iter, test_iter = d2l.load_data_fashion_mnist(batch_size, resize=224)\n",
    "    \n",
    "    optimizer = tf.keras.optimizers.SGD(learning_rate=lr)\n",
    "    loss = tf.keras.losses.SparseCategoricalCrossentropy(from_logits=True)\n",
    "    net.compile(optimizer=optimizer, loss=loss, metrics=['accuracy'])\n",
    "    callback = d2l.TrainCallback(net, train_iter, test_iter, num_epochs, d2l.try_gpu()._device_name)\n",
    "    net.fit(train_iter, epochs=num_epochs, verbose=0, callbacks=[callback])\n"
   ]
  },
  {
   "cell_type": "markdown",
   "metadata": {},
   "source": [
    "VGG19"
   ]
  },
  {
   "cell_type": "code",
   "execution_count": null,
   "metadata": {},
   "outputs": [],
   "source": [
    "convo_arch = [(2, 64), (2, 128), (4, 256), (4, 512), (4, 512)]\n",
    "\n",
    "with TowerContext('', is_training=True):\n",
    "    \n",
    "    net = vgg16(convo_arch)\n",
    "\n",
    "    lr, num_epochs, batch_size = 0.05, 10, 128\n",
    "    train_iter, test_iter = d2l.load_data_fashion_mnist(batch_size, resize=224)\n",
    "    \n",
    "    optimizer = tf.keras.optimizers.SGD(learning_rate=lr)\n",
    "    loss = tf.keras.losses.SparseCategoricalCrossentropy(from_logits=True)\n",
    "    net.compile(optimizer=optimizer, loss=loss, metrics=['accuracy'])\n",
    "    callback = d2l.TrainCallback(net, train_iter, test_iter, num_epochs, d2l.try_gpu()._device_name)\n",
    "    net.fit(train_iter, epochs=num_epochs, verbose=0, callbacks=[callback])\n"
   ]
  }
 ],
 "metadata": {
  "interpreter": {
   "hash": "360eb45faca1e4dfefc4f13aa9499776008d91528b4d443d812d58097d713eb4"
  },
  "kernelspec": {
   "display_name": "Python 3.7.9 64-bit ('d2l': venv)",
   "language": "python",
   "name": "python3"
  },
  "language_info": {
   "codemirror_mode": {
    "name": "ipython",
    "version": 3
   },
   "file_extension": ".py",
   "mimetype": "text/x-python",
   "name": "python",
   "nbconvert_exporter": "python",
   "pygments_lexer": "ipython3",
   "version": "3.7.9"
  },
  "orig_nbformat": 4
 },
 "nbformat": 4,
 "nbformat_minor": 2
}
