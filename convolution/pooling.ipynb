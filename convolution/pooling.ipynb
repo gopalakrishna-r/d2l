{
 "cells": [
  {
   "cell_type": "code",
   "execution_count": 1,
   "metadata": {},
   "outputs": [],
   "source": [
    "import tensorflow as tf\n"
   ]
  },
  {
   "cell_type": "code",
   "execution_count": 2,
   "metadata": {},
   "outputs": [],
   "source": [
    "def pool2d(X, pool_size, mode = 'max'):\n",
    "    p_h,  p_w = pool_size\n",
    "    input_batch_size, input_c, input_h, input_w = X.shape\n",
    "    cost = 0\n",
    "    Y = tf.Variable(tf.zeros((input_batch_size, input_c, input_h - p_h + 1, input_w - p_w + 1)))\n",
    "    \n",
    "    for i in range(Y.shape[0]):\n",
    "        for j in range(Y.shape[1]):\n",
    "            for k in range(Y.shape[2]):\n",
    "                for l in range(Y.shape[3]):\n",
    "                    if mode == 'max':\n",
    "                        cost += 1  # tf.reduce_max(X[ k:k+p_h, l:l+p_w])\n",
    "                    elif mode == 'average':\n",
    "                        cost += 1  # tf.reduce_mean(X[k:k+p_h, l:l+p_w])\n",
    "            print(f'cost after w = {l} and h = {k} is {cost}')\n",
    "        print(f'cost after c = {j} is {cost}')\n",
    "    return cost"
   ]
  },
  {
   "cell_type": "code",
   "execution_count": null,
   "metadata": {},
   "outputs": [],
   "source": [
    "X = tf.reshape(tf.range(16, dtype=tf.float32), (1, 4, 4, 1))"
   ]
  },
  {
   "cell_type": "code",
   "execution_count": 3,
   "metadata": {},
   "outputs": [
    {
     "data": {
      "text/plain": [
       "<tf.Variable 'Variable:0' shape=(2, 2) dtype=float32, numpy=\n",
       "array([[4., 5.],\n",
       "       [7., 8.]], dtype=float32)>"
      ]
     },
     "execution_count": 3,
     "metadata": {},
     "output_type": "execute_result"
    }
   ],
   "source": [
    "pool2d(X, pool_size=[3, 3])"
   ]
  },
  {
   "cell_type": "code",
   "execution_count": null,
   "metadata": {},
   "outputs": [],
   "source": []
  }
 ],
 "metadata": {
  "interpreter": {
   "hash": "2018afa856895c4f6a530b1e88a04dc2b723e0915fb0ed98a395ac3c889d3f9a"
  },
  "kernelspec": {
   "display_name": "Python 3.7.9 64-bit",
   "language": "python",
   "name": "python3"
  },
  "language_info": {
   "codemirror_mode": {
    "name": "ipython",
    "version": 3
   },
   "file_extension": ".py",
   "mimetype": "text/x-python",
   "name": "python",
   "nbconvert_exporter": "python",
   "pygments_lexer": "ipython3",
   "version": "3.7.9"
  },
  "orig_nbformat": 4
 },
 "nbformat": 4,
 "nbformat_minor": 2
}
